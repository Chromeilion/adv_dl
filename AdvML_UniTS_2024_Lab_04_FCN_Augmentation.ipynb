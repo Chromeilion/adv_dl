{
 "cells": [
  {
   "cell_type": "markdown",
   "metadata": {},
   "source": [
    "# Lab 4: Effect of **data augmentation** on a *shallow, linear FCN*\n",
    "\n",
    "Advanced Topics in Machine Learning -- Fall 2024, UniTS\n",
    "\n",
    "<a target=\"_blank\" href=\"https://colab.research.google.com/github/ganselmif/adv-ml-units/blob/main/notebooks/AdvML_UniTS_2024_Lab_04_FCN_Augmentation.ipynb\"><img src=\"https://colab.research.google.com/assets/colab-badge.svg\" alt=\"Open in Colab\"/></a>"
   ]
  },
  {
   "cell_type": "markdown",
   "metadata": {},
   "source": [
    "#### High-level overview\n",
    "\n",
    "In the *Lab* that follows, we will explore the effect of **data augmentation** on the structure of learned weights in a *neural network* model. As an example, we will consider a *shallow, linear FCN* (fully-connected network with just 1 layer and no non-linearities) that is trained on the MNIST *classification task*.\n",
    "\n",
    "On a high level, you need to:\n",
    "- Define and train a *shallow, linear FCN* on the MNIST dataset, using *training-set augmentation* by means of *random rotations*;\n",
    "- Extract the learned weights from the trained model;\n",
    "- Visualize the learned weights as *images* and comment on their structure.\n",
    "\n",
    "The rest of the notebook will guide you through more detailed steps you need to follow."
   ]
  },
  {
   "cell_type": "markdown",
   "metadata": {},
   "source": [
    "#### Loading the datasets and defining augmentation strategies\n",
    "\n",
    "Load the (training and test) *MNIST* datasets as we did in the previous lab, with the following meaningful differences:\n",
    "- Apply random rotations to the dataset used for training, using a rotation range of $[0, 180]$ degrees.\n",
    "- Apply normalization to both datasets, using a mean of $0.1307$ and a standard deviation of $0.3081$ (they are notable, pre-computed values for the MNIST **training** dataset);\n",
    "\n",
    "**Hint**: look up the documentation for the `transforms.RandomRotation` and `transforms.Normalize` classes.\n",
    "\n",
    "**Optional**: Visualize the augmented training dataset, to get a sense of the effect of the augmentation strategy."
   ]
  },
  {
   "cell_type": "code",
   "metadata": {
    "ExecuteTime": {
     "end_time": "2024-10-18T17:27:26.171180Z",
     "start_time": "2024-10-18T17:27:26.162529Z"
    }
   },
   "source": [
    "# YOUR CODE HERE\n",
    "from sklearn.datasets import load_digits\n",
    "import torch\n",
    "import torch.nn as nn\n",
    "import torchvision.transforms.v2 as v2\n",
    "import numpy as np\n",
    "from tqdm.notebook import tqdm\n",
    "import matplotlib.pyplot as plt\n",
    "import math\n"
   ],
   "outputs": [],
   "execution_count": 77
  },
  {
   "cell_type": "markdown",
   "metadata": {},
   "source": [
    "#### Model definition and training\n",
    "\n",
    "Define the model and train it on the classification task, as we did in the previous *Lab*. Use fixed-learning-rate *Stochastic Gradient Descent* (with no momentum) as the optimizer. Feel free to experiment with the other hyperparameters.\n",
    "\n",
    "**Optional**: Plot the training loss as the training progresses. Show also test loss at the beginning and at the end of training.\n"
   ]
  },
  {
   "cell_type": "code",
   "metadata": {
    "ExecuteTime": {
     "end_time": "2024-10-18T17:35:23.257944Z",
     "start_time": "2024-10-18T17:33:09.004169Z"
    }
   },
   "source": [
    "# YOUR CODE HERE\n",
    "net_width = 10\n",
    "\n",
    "class NeuralNet(nn.Module):\n",
    "    def __init__(self, width, classes, *args, **kwargs):\n",
    "        super().__init__(*args, **kwargs)\n",
    "        self.linear = nn.Linear(64, width)\n",
    "        self.head = nn.Linear(width, classes)\n",
    "    \n",
    "    def forward(self, x):\n",
    "        return self.linear(x.flatten(1))\n",
    "        x = self.linear(x.flatten(1))\n",
    "        return self.head(x)\n",
    "\n",
    "\n",
    "class MNISTDataset(torch.utils.data.Dataset):\n",
    "    def __init__(self, rotate: bool = False):\n",
    "        self.x, self.y = load_digits(return_X_y=True)\n",
    "        self.rotate = rotate\n",
    "        if self.rotate:\n",
    "            self.transform = v2.Compose([\n",
    "                v2.RandomRotation([-180, 180]),\n",
    "                v2.Normalize(mean=[0.1307], std=[0.3081])\n",
    "            ])\n",
    "        else:\n",
    "            self.transform = v2.Normalize(mean=[0.1307], std=[0.3081])\n",
    "    \n",
    "    def __getitem__(self, index):\n",
    "        x = self.x[index].astype(np.float32).reshape(8, 8)\n",
    "        \n",
    "        if self.rotate:\n",
    "            x = self.transform(x)\n",
    "            \n",
    "        y = self.y[index]\n",
    "        return x,  y\n",
    "    \n",
    "    def __len__(self):\n",
    "        return len(self.x)\n",
    "\n",
    "\n",
    "model = NeuralNet(net_width, 10).train()\n",
    "dataset = MNISTDataset(rotate=True)\n",
    "\n",
    "lr = 0.01\n",
    "n_epochs = 1000\n",
    "batch_size = 512\n",
    "\n",
    "optimizer = torch.optim.SGD(\n",
    "    model.parameters(), \n",
    "    lr=lr,\n",
    ")\n",
    "criterion = nn.CrossEntropyLoss()\n",
    "dataloader = torch.utils.data.DataLoader(\n",
    "    dataset,\n",
    "    batch_size=batch_size\n",
    ")\n",
    "all_loss = []\n",
    "for i in tqdm(range(n_epochs), total=n_epochs, desc='Epochs'):\n",
    "    for x, target  in dataloader:\n",
    "        optimizer.zero_grad()\n",
    "        logits = model(x)\n",
    "        loss = criterion(logits, target)\n",
    "        loss.backward()\n",
    "        optimizer.step()\n",
    "    all_loss.append(loss.item())\n",
    "\n",
    "fig, ax = plt.subplots()\n",
    "ax.plot(list(range(len(all_loss))), all_loss)\n",
    "ax.set_title(\"Training Loss\")\n",
    "ax.set_xlabel(\"Epoch\")\n",
    "ax.set_ylabel(\"Cross Entropy Loss\")\n",
    "print(\"Loss: \", loss.item())"
   ],
   "outputs": [
    {
     "data": {
      "text/plain": [
       "Epochs:   0%|          | 0/1000 [00:00<?, ?it/s]"
      ],
      "application/vnd.jupyter.widget-view+json": {
       "version_major": 2,
       "version_minor": 0,
       "model_id": "cff13240abc84d7db46456c4a868c064"
      }
     },
     "metadata": {},
     "output_type": "display_data"
    },
    {
     "name": "stdout",
     "output_type": "stream",
     "text": [
      "Loss:  0.02907770685851574\n"
     ]
    },
    {
     "data": {
      "text/plain": [
       "<Figure size 640x480 with 1 Axes>"
      ],
      "image/png": "[encoded data removed]"
     },
     "metadata": {},
     "output_type": "display_data"
    }
   ],
   "execution_count": 84
  },
  {
   "cell_type": "markdown",
   "metadata": {},
   "source": [
    "#### Weights extraction and visualization\n",
    "\n",
    "Extract the tensors corresponding to learned weights from the trained model (they are stored as the `weights` attribute of the linear layer), and visualize them as images.\n",
    "\n",
    "Comment on the structure of the learned weights, in relation to the nature of the augmentation strategy.\n",
    "\n",
    "**Remark**: in order to be able to visualize the weights as images, they need to be appropriately scaled (as tensor) within the $[0,1]$ range.\n"
   ]
  },
  {
   "cell_type": "code",
   "metadata": {
    "ExecuteTime": {
     "end_time": "2024-10-18T17:35:36.650648Z",
     "start_time": "2024-10-18T17:35:35.041661Z"
    }
   },
   "source": [
    "# YOUR CODE HERE\n",
    "weights = model.linear.weight\n",
    "\n",
    "def plot_weights(weight):\n",
    "    h = int(math.sqrt(weight.shape[1]))\n",
    "    fig, ax = plt.subplots(2, weight.shape[0]//2, figsize=(10, 20))\n",
    "    for i in range(weight.shape[0]//2):\n",
    "        im1 = weight[i].reshape(h, h)\n",
    "        im2 = weight[i+weight.shape[0]//2].reshape(h, h)\n",
    "        ax[0, i].imshow(im1.detach().numpy(), cmap=\"Greys\")\n",
    "        ax[1, i].imshow(im2.detach().numpy(), cmap=\"Greys\")\n",
    "    return fig, ax\n",
    "        \n",
    "fig, ax = plot_weights(weights);"
   ],
   "outputs": [
    {
     "data": {
      "text/plain": [
       "<Figure size 1000x2000 with 10 Axes>"
      ],
      "image/png": "[encoded data removed]"
     },
     "metadata": {},
     "output_type": "display_data"
    }
   ],
   "execution_count": 85
  },
  {
   "cell_type": "markdown",
   "source": [
    "#### Optional I: Training with different augmentation strategies\n",
    "\n",
    "Repeat the same process described above, but using different augmentation strategy, namely:\n",
    "- Apply a central (vertical or horizontal, one only or both) flip to images in the training dataset;\n",
    "- Apply random translations to images in the training dataset, bound by an arbitrary maximum;\n",
    "\n",
    "Comment on the structure of the learned weights, in relation to the nature of the augmentation strategy.\n"
   ],
   "metadata": {
    "collapsed": false
   }
  },
  {
   "cell_type": "markdown",
   "source": [
    "#### Optional II: Testing for the invariance of the learned representation\n",
    "\n",
    "Test that the internal representation produced by the weights learned under data augmentation is indeed invariant to the same transformation used for data augmentation. You may follow the guidance given in [this notebook](AdvML_UniTS_2024_Lab_04bis_FCN_Invariance.ipynb).\n"
   ],
   "metadata": {
    "collapsed": false
   }
  }
 ],
 "metadata": {
  "colab": {
   "authorship_tag": "ABX9TyPkibvpTEMRILBn2/x8IuJj",
   "provenance": []
  },
  "kernelspec": {
   "display_name": "Python 3 (ipykernel)",
   "language": "python",
   "name": "python3"
  },
  "language_info": {
   "codemirror_mode": {
    "name": "ipython",
    "version": 3
   },
   "file_extension": ".py",
   "mimetype": "text/x-python",
   "name": "python",
   "nbconvert_exporter": "python",
   "pygments_lexer": "ipython3",
   "version": "3.10.9"
  }
 },
 "nbformat": 4,
 "nbformat_minor": 1
}
